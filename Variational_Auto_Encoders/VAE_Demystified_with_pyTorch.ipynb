{
 "cells": [
  {
   "cell_type": "markdown",
   "metadata": {},
   "source": [
    "# VAE on Cifar10 with pyTorch\n",
    "I tried to implement the following pyTorch [tutorial](https://towardsdatascience.com/variational-autoencoder-demystified-with-pytorch-implementation-3a06bee395ed).\n"
   ]
  },
  {
   "cell_type": "markdown",
   "metadata": {},
   "source": [
    "## Basic Imports"
   ]
  },
  {
   "cell_type": "code",
   "execution_count": 1,
   "metadata": {},
   "outputs": [
    {
     "ename": "TypeError",
     "evalue": "__init__() missing 1 required positional argument: 'input_height'",
     "output_type": "error",
     "traceback": [
      "\u001b[1;31m---------------------------------------------------------------------------\u001b[0m",
      "\u001b[1;31mTypeError\u001b[0m                                 Traceback (most recent call last)",
      "\u001b[1;32mc:\\Users\\daflo\\Documents\\DTU\\Semester_6\\Bachelor\\BachelorXAI\\BachelorProject_XAI\\Variational_Auto_Encoders\\VAE_Demystified_with_pyTorch.ipynb Cell 3'\u001b[0m in \u001b[0;36m<module>\u001b[1;34m\u001b[0m\n\u001b[0;32m      <a href='vscode-notebook-cell:/c%3A/Users/daflo/Documents/DTU/Semester_6/Bachelor/BachelorXAI/BachelorProject_XAI/Variational_Auto_Encoders/VAE_Demystified_with_pyTorch.ipynb#ch0000002?line=0'>1</a>\u001b[0m \u001b[39mfrom\u001b[39;00m \u001b[39mpl_bolts\u001b[39;00m\u001b[39m.\u001b[39;00m\u001b[39mmodels\u001b[39;00m\u001b[39m.\u001b[39;00m\u001b[39mautoencoders\u001b[39;00m \u001b[39mimport\u001b[39;00m VAE\n\u001b[1;32m----> <a href='vscode-notebook-cell:/c%3A/Users/daflo/Documents/DTU/Semester_6/Bachelor/BachelorXAI/BachelorProject_XAI/Variational_Auto_Encoders/VAE_Demystified_with_pyTorch.ipynb#ch0000002?line=2'>3</a>\u001b[0m model \u001b[39m=\u001b[39m VAE()\n\u001b[0;32m      <a href='vscode-notebook-cell:/c%3A/Users/daflo/Documents/DTU/Semester_6/Bachelor/BachelorXAI/BachelorProject_XAI/Variational_Auto_Encoders/VAE_Demystified_with_pyTorch.ipynb#ch0000002?line=3'>4</a>\u001b[0m trainer \u001b[39m=\u001b[39m Trainer()\n\u001b[0;32m      <a href='vscode-notebook-cell:/c%3A/Users/daflo/Documents/DTU/Semester_6/Bachelor/BachelorXAI/BachelorProject_XAI/Variational_Auto_Encoders/VAE_Demystified_with_pyTorch.ipynb#ch0000002?line=4'>5</a>\u001b[0m trainer\u001b[39m.\u001b[39mfit(model)\n",
      "\u001b[1;31mTypeError\u001b[0m: __init__() missing 1 required positional argument: 'input_height'"
     ]
    }
   ],
   "source": [
    "from pl_bolts.models.autoencoders import VAE\n",
    "\n",
    "model = VAE()\n",
    "trainer = Trainer()\n",
    "trainer.fit(model)"
   ]
  },
  {
   "cell_type": "code",
   "execution_count": 3,
   "metadata": {},
   "outputs": [],
   "source": [
    "import pytorch_lightning as pl\n",
    "import numpy as np"
   ]
  }
 ],
 "metadata": {
  "interpreter": {
   "hash": "05908db61d562b6b82dbdd69656403b30dae77f547a66d972e99027ce19f097c"
  },
  "kernelspec": {
   "display_name": "Python 3.9.7 ('Bachelor_venv': venv)",
   "language": "python",
   "name": "python3"
  },
  "language_info": {
   "codemirror_mode": {
    "name": "ipython",
    "version": 3
   },
   "file_extension": ".py",
   "mimetype": "text/x-python",
   "name": "python",
   "nbconvert_exporter": "python",
   "pygments_lexer": "ipython3",
   "version": "3.9.7"
  },
  "orig_nbformat": 4
 },
 "nbformat": 4,
 "nbformat_minor": 2
}

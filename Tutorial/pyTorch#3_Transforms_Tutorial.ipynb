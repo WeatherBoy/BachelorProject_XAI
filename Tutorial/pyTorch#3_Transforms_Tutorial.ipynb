{
 "cells": [
  {
   "cell_type": "markdown",
   "metadata": {},
   "source": [
    "# Transforms\n",
    "\n",
    "As is often the case with data it doesn't necessarily arrives in the form that is required. So to train our Machine Learning lagorithms we are required to **transform** the data.\n",
    "\n",
    "All `torchVision` Datasets posseses the two parameters `transform` (to modify features) and `target_transform` to modify the labels.\n",
    "It might come in handy at some point to know that: the [torchvision.transform](https://pytorch.org/vision/stable/transforms.html) offeres several commonly-used transforms.\n",
    "\n",
    "Here is the code that transforms the **FashionMNIST**. The images were stored as **PIL** images, but we needed them as Tensors, and while the lables where simply *integers*, we needed them to be \"one-hot\" encoded Tensors. The `lambda` function was used for this."
   ]
  },
  {
   "cell_type": "code",
   "execution_count": null,
   "metadata": {},
   "outputs": [],
   "source": [
    "import torch\n",
    "from torchvision import datasets\n",
    "from torchvision.transforms import ToTensor, Lambda\n",
    "\n",
    "ds = datasets.FashionMNIST(\n",
    "    root=\"data\",\n",
    "    train=True,\n",
    "    download=True,\n",
    "    transform=ToTensor(),\n",
    "    target_transform=Lambda(lambda y: torch.zeros(10, dtype=torch.float).scatter_(0, torch.tensor(y), value=1))\n",
    ")"
   ]
  },
  {
   "cell_type": "markdown",
   "metadata": {},
   "source": [
    "## `ToTensor()`\n",
    "\n",
    "The `ToTensor()` function converts a **PIL** image or **NumPy** `ndarray` into `FloatTensor`, and also scales the image pixel-intensity to values in the range [0,1].\n",
    "\n"
   ]
  },
  {
   "cell_type": "markdown",
   "metadata": {},
   "source": [
    "## Lambda Transforms\n",
    "\n",
    "I (Felix) do not fully understand this.\n",
    "\n",
    "It seems like it just transforms integers into one-dimensional Tensors.. hmmm."
   ]
  }
 ],
 "metadata": {
  "language_info": {
   "name": "python"
  },
  "orig_nbformat": 4
 },
 "nbformat": 4,
 "nbformat_minor": 2
}

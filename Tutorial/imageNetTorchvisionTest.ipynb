{
 "cells": [
  {
   "cell_type": "markdown",
   "metadata": {},
   "source": [
    "# Testing torchVision's imagenet dataset\n",
    "Seeing whether it does what we want."
   ]
  },
  {
   "cell_type": "code",
   "execution_count": 1,
   "metadata": {},
   "outputs": [
    {
     "ename": "RuntimeError",
     "evalue": "The archive ILSVRC2012_devkit_t12.tar.gz is not present in the root directory or is corrupted. You need to download it externally and place it in ../data/imageNet.",
     "output_type": "error",
     "traceback": [
      "\u001b[1;31m---------------------------------------------------------------------------\u001b[0m",
      "\u001b[1;31mRuntimeError\u001b[0m                              Traceback (most recent call last)",
      "\u001b[1;32mc:\\Users\\daflo\\Documents\\DTU\\Semester_6\\Bachelor\\BachelorXAI\\BachelorProject_XAI\\Tutorial\\imageNetTorchvisionTest.ipynb Cell 2'\u001b[0m in \u001b[0;36m<module>\u001b[1;34m\u001b[0m\n\u001b[0;32m      <a href='vscode-notebook-cell:/c%3A/Users/daflo/Documents/DTU/Semester_6/Bachelor/BachelorXAI/BachelorProject_XAI/Tutorial/imageNetTorchvisionTest.ipynb#ch0000001?line=2'>3</a>\u001b[0m \u001b[39mimport\u001b[39;00m \u001b[39mnumpy\u001b[39;00m \u001b[39mas\u001b[39;00m \u001b[39mnp\u001b[39;00m\n\u001b[0;32m      <a href='vscode-notebook-cell:/c%3A/Users/daflo/Documents/DTU/Semester_6/Bachelor/BachelorXAI/BachelorProject_XAI/Tutorial/imageNetTorchvisionTest.ipynb#ch0000001?line=4'>5</a>\u001b[0m DATA_SET_PATH \u001b[39m=\u001b[39m \u001b[39m\"\u001b[39m\u001b[39m../data/imageNet\u001b[39m\u001b[39m\"\u001b[39m\n\u001b[1;32m----> <a href='vscode-notebook-cell:/c%3A/Users/daflo/Documents/DTU/Semester_6/Bachelor/BachelorXAI/BachelorProject_XAI/Tutorial/imageNetTorchvisionTest.ipynb#ch0000001?line=5'>6</a>\u001b[0m trainval_set \u001b[39m=\u001b[39m torchvision\u001b[39m.\u001b[39;49mdatasets\u001b[39m.\u001b[39;49mImageNet(\n\u001b[0;32m      <a href='vscode-notebook-cell:/c%3A/Users/daflo/Documents/DTU/Semester_6/Bachelor/BachelorXAI/BachelorProject_XAI/Tutorial/imageNetTorchvisionTest.ipynb#ch0000001?line=6'>7</a>\u001b[0m     root \u001b[39m=\u001b[39;49m DATA_SET_PATH,\n\u001b[0;32m      <a href='vscode-notebook-cell:/c%3A/Users/daflo/Documents/DTU/Semester_6/Bachelor/BachelorXAI/BachelorProject_XAI/Tutorial/imageNetTorchvisionTest.ipynb#ch0000001?line=7'>8</a>\u001b[0m     split \u001b[39m=\u001b[39;49m \u001b[39m\"\u001b[39;49m\u001b[39mtrain\u001b[39;49m\u001b[39m\"\u001b[39;49m,\n\u001b[0;32m      <a href='vscode-notebook-cell:/c%3A/Users/daflo/Documents/DTU/Semester_6/Bachelor/BachelorXAI/BachelorProject_XAI/Tutorial/imageNetTorchvisionTest.ipynb#ch0000001?line=8'>9</a>\u001b[0m     transform \u001b[39m=\u001b[39;49m torchvision\u001b[39m.\u001b[39;49mtransforms\u001b[39m.\u001b[39;49mToTensor(), \n\u001b[0;32m     <a href='vscode-notebook-cell:/c%3A/Users/daflo/Documents/DTU/Semester_6/Bachelor/BachelorXAI/BachelorProject_XAI/Tutorial/imageNetTorchvisionTest.ipynb#ch0000001?line=9'>10</a>\u001b[0m     )\n\u001b[0;32m     <a href='vscode-notebook-cell:/c%3A/Users/daflo/Documents/DTU/Semester_6/Bachelor/BachelorXAI/BachelorProject_XAI/Tutorial/imageNetTorchvisionTest.ipynb#ch0000001?line=11'>12</a>\u001b[0m train_loader \u001b[39m=\u001b[39m torchvision\u001b[39m.\u001b[39mdatasets\u001b[39m.\u001b[39mDataLoader(\n\u001b[0;32m     <a href='vscode-notebook-cell:/c%3A/Users/daflo/Documents/DTU/Semester_6/Bachelor/BachelorXAI/BachelorProject_XAI/Tutorial/imageNetTorchvisionTest.ipynb#ch0000001?line=12'>13</a>\u001b[0m     trainval_set,\n\u001b[0;32m     <a href='vscode-notebook-cell:/c%3A/Users/daflo/Documents/DTU/Semester_6/Bachelor/BachelorXAI/BachelorProject_XAI/Tutorial/imageNetTorchvisionTest.ipynb#ch0000001?line=13'>14</a>\u001b[0m     batch_size\u001b[39m=\u001b[39m\u001b[39m1\u001b[39m,\n\u001b[0;32m     <a href='vscode-notebook-cell:/c%3A/Users/daflo/Documents/DTU/Semester_6/Bachelor/BachelorXAI/BachelorProject_XAI/Tutorial/imageNetTorchvisionTest.ipynb#ch0000001?line=14'>15</a>\u001b[0m     shuffle\u001b[39m=\u001b[39m\u001b[39mTrue\u001b[39;00m,\n\u001b[0;32m     <a href='vscode-notebook-cell:/c%3A/Users/daflo/Documents/DTU/Semester_6/Bachelor/BachelorXAI/BachelorProject_XAI/Tutorial/imageNetTorchvisionTest.ipynb#ch0000001?line=15'>16</a>\u001b[0m     num_workers\u001b[39m=\u001b[39m\u001b[39m1\u001b[39m\n\u001b[0;32m     <a href='vscode-notebook-cell:/c%3A/Users/daflo/Documents/DTU/Semester_6/Bachelor/BachelorXAI/BachelorProject_XAI/Tutorial/imageNetTorchvisionTest.ipynb#ch0000001?line=16'>17</a>\u001b[0m     )\n\u001b[0;32m     <a href='vscode-notebook-cell:/c%3A/Users/daflo/Documents/DTU/Semester_6/Bachelor/BachelorXAI/BachelorProject_XAI/Tutorial/imageNetTorchvisionTest.ipynb#ch0000001?line=18'>19</a>\u001b[0m classes \u001b[39m=\u001b[39m trainval_set\u001b[39m.\u001b[39mclasses \u001b[39m# or class_to_idx\u001b[39;00m\n",
      "File \u001b[1;32mc:\\Users\\daflo\\Documents\\DTU\\Semester_6\\Bachelor\\BachelorXAI\\BachelorProject_XAI\\Bachelor_venv\\lib\\site-packages\\torchvision\\datasets\\imagenet.py:46\u001b[0m, in \u001b[0;36mImageNet.__init__\u001b[1;34m(self, root, split, **kwargs)\u001b[0m\n\u001b[0;32m     <a href='file:///c%3A/Users/daflo/Documents/DTU/Semester_6/Bachelor/BachelorXAI/BachelorProject_XAI/Bachelor_venv/lib/site-packages/torchvision/datasets/imagenet.py?line=42'>43</a>\u001b[0m root \u001b[39m=\u001b[39m \u001b[39mself\u001b[39m\u001b[39m.\u001b[39mroot \u001b[39m=\u001b[39m os\u001b[39m.\u001b[39mpath\u001b[39m.\u001b[39mexpanduser(root)\n\u001b[0;32m     <a href='file:///c%3A/Users/daflo/Documents/DTU/Semester_6/Bachelor/BachelorXAI/BachelorProject_XAI/Bachelor_venv/lib/site-packages/torchvision/datasets/imagenet.py?line=43'>44</a>\u001b[0m \u001b[39mself\u001b[39m\u001b[39m.\u001b[39msplit \u001b[39m=\u001b[39m verify_str_arg(split, \u001b[39m\"\u001b[39m\u001b[39msplit\u001b[39m\u001b[39m\"\u001b[39m, (\u001b[39m\"\u001b[39m\u001b[39mtrain\u001b[39m\u001b[39m\"\u001b[39m, \u001b[39m\"\u001b[39m\u001b[39mval\u001b[39m\u001b[39m\"\u001b[39m))\n\u001b[1;32m---> <a href='file:///c%3A/Users/daflo/Documents/DTU/Semester_6/Bachelor/BachelorXAI/BachelorProject_XAI/Bachelor_venv/lib/site-packages/torchvision/datasets/imagenet.py?line=45'>46</a>\u001b[0m \u001b[39mself\u001b[39;49m\u001b[39m.\u001b[39;49mparse_archives()\n\u001b[0;32m     <a href='file:///c%3A/Users/daflo/Documents/DTU/Semester_6/Bachelor/BachelorXAI/BachelorProject_XAI/Bachelor_venv/lib/site-packages/torchvision/datasets/imagenet.py?line=46'>47</a>\u001b[0m wnid_to_classes \u001b[39m=\u001b[39m load_meta_file(\u001b[39mself\u001b[39m\u001b[39m.\u001b[39mroot)[\u001b[39m0\u001b[39m]\n\u001b[0;32m     <a href='file:///c%3A/Users/daflo/Documents/DTU/Semester_6/Bachelor/BachelorXAI/BachelorProject_XAI/Bachelor_venv/lib/site-packages/torchvision/datasets/imagenet.py?line=48'>49</a>\u001b[0m \u001b[39msuper\u001b[39m()\u001b[39m.\u001b[39m\u001b[39m__init__\u001b[39m(\u001b[39mself\u001b[39m\u001b[39m.\u001b[39msplit_folder, \u001b[39m*\u001b[39m\u001b[39m*\u001b[39mkwargs)\n",
      "File \u001b[1;32mc:\\Users\\daflo\\Documents\\DTU\\Semester_6\\Bachelor\\BachelorXAI\\BachelorProject_XAI\\Bachelor_venv\\lib\\site-packages\\torchvision\\datasets\\imagenet.py:59\u001b[0m, in \u001b[0;36mImageNet.parse_archives\u001b[1;34m(self)\u001b[0m\n\u001b[0;32m     <a href='file:///c%3A/Users/daflo/Documents/DTU/Semester_6/Bachelor/BachelorXAI/BachelorProject_XAI/Bachelor_venv/lib/site-packages/torchvision/datasets/imagenet.py?line=56'>57</a>\u001b[0m \u001b[39mdef\u001b[39;00m \u001b[39mparse_archives\u001b[39m(\u001b[39mself\u001b[39m) \u001b[39m-\u001b[39m\u001b[39m>\u001b[39m \u001b[39mNone\u001b[39;00m:\n\u001b[0;32m     <a href='file:///c%3A/Users/daflo/Documents/DTU/Semester_6/Bachelor/BachelorXAI/BachelorProject_XAI/Bachelor_venv/lib/site-packages/torchvision/datasets/imagenet.py?line=57'>58</a>\u001b[0m     \u001b[39mif\u001b[39;00m \u001b[39mnot\u001b[39;00m check_integrity(os\u001b[39m.\u001b[39mpath\u001b[39m.\u001b[39mjoin(\u001b[39mself\u001b[39m\u001b[39m.\u001b[39mroot, META_FILE)):\n\u001b[1;32m---> <a href='file:///c%3A/Users/daflo/Documents/DTU/Semester_6/Bachelor/BachelorXAI/BachelorProject_XAI/Bachelor_venv/lib/site-packages/torchvision/datasets/imagenet.py?line=58'>59</a>\u001b[0m         parse_devkit_archive(\u001b[39mself\u001b[39;49m\u001b[39m.\u001b[39;49mroot)\n\u001b[0;32m     <a href='file:///c%3A/Users/daflo/Documents/DTU/Semester_6/Bachelor/BachelorXAI/BachelorProject_XAI/Bachelor_venv/lib/site-packages/torchvision/datasets/imagenet.py?line=60'>61</a>\u001b[0m     \u001b[39mif\u001b[39;00m \u001b[39mnot\u001b[39;00m os\u001b[39m.\u001b[39mpath\u001b[39m.\u001b[39misdir(\u001b[39mself\u001b[39m\u001b[39m.\u001b[39msplit_folder):\n\u001b[0;32m     <a href='file:///c%3A/Users/daflo/Documents/DTU/Semester_6/Bachelor/BachelorXAI/BachelorProject_XAI/Bachelor_venv/lib/site-packages/torchvision/datasets/imagenet.py?line=61'>62</a>\u001b[0m         \u001b[39mif\u001b[39;00m \u001b[39mself\u001b[39m\u001b[39m.\u001b[39msplit \u001b[39m==\u001b[39m \u001b[39m\"\u001b[39m\u001b[39mtrain\u001b[39m\u001b[39m\"\u001b[39m:\n",
      "File \u001b[1;32mc:\\Users\\daflo\\Documents\\DTU\\Semester_6\\Bachelor\\BachelorXAI\\BachelorProject_XAI\\Bachelor_venv\\lib\\site-packages\\torchvision\\datasets\\imagenet.py:140\u001b[0m, in \u001b[0;36mparse_devkit_archive\u001b[1;34m(root, file)\u001b[0m\n\u001b[0;32m    <a href='file:///c%3A/Users/daflo/Documents/DTU/Semester_6/Bachelor/BachelorXAI/BachelorProject_XAI/Bachelor_venv/lib/site-packages/torchvision/datasets/imagenet.py?line=136'>137</a>\u001b[0m     file \u001b[39m=\u001b[39m archive_meta[\u001b[39m0\u001b[39m]\n\u001b[0;32m    <a href='file:///c%3A/Users/daflo/Documents/DTU/Semester_6/Bachelor/BachelorXAI/BachelorProject_XAI/Bachelor_venv/lib/site-packages/torchvision/datasets/imagenet.py?line=137'>138</a>\u001b[0m md5 \u001b[39m=\u001b[39m archive_meta[\u001b[39m1\u001b[39m]\n\u001b[1;32m--> <a href='file:///c%3A/Users/daflo/Documents/DTU/Semester_6/Bachelor/BachelorXAI/BachelorProject_XAI/Bachelor_venv/lib/site-packages/torchvision/datasets/imagenet.py?line=139'>140</a>\u001b[0m _verify_archive(root, file, md5)\n\u001b[0;32m    <a href='file:///c%3A/Users/daflo/Documents/DTU/Semester_6/Bachelor/BachelorXAI/BachelorProject_XAI/Bachelor_venv/lib/site-packages/torchvision/datasets/imagenet.py?line=141'>142</a>\u001b[0m \u001b[39mwith\u001b[39;00m get_tmp_dir() \u001b[39mas\u001b[39;00m tmp_dir:\n\u001b[0;32m    <a href='file:///c%3A/Users/daflo/Documents/DTU/Semester_6/Bachelor/BachelorXAI/BachelorProject_XAI/Bachelor_venv/lib/site-packages/torchvision/datasets/imagenet.py?line=142'>143</a>\u001b[0m     extract_archive(os\u001b[39m.\u001b[39mpath\u001b[39m.\u001b[39mjoin(root, file), tmp_dir)\n",
      "File \u001b[1;32mc:\\Users\\daflo\\Documents\\DTU\\Semester_6\\Bachelor\\BachelorXAI\\BachelorProject_XAI\\Bachelor_venv\\lib\\site-packages\\torchvision\\datasets\\imagenet.py:96\u001b[0m, in \u001b[0;36m_verify_archive\u001b[1;34m(root, file, md5)\u001b[0m\n\u001b[0;32m     <a href='file:///c%3A/Users/daflo/Documents/DTU/Semester_6/Bachelor/BachelorXAI/BachelorProject_XAI/Bachelor_venv/lib/site-packages/torchvision/datasets/imagenet.py?line=90'>91</a>\u001b[0m \u001b[39mif\u001b[39;00m \u001b[39mnot\u001b[39;00m check_integrity(os\u001b[39m.\u001b[39mpath\u001b[39m.\u001b[39mjoin(root, file), md5):\n\u001b[0;32m     <a href='file:///c%3A/Users/daflo/Documents/DTU/Semester_6/Bachelor/BachelorXAI/BachelorProject_XAI/Bachelor_venv/lib/site-packages/torchvision/datasets/imagenet.py?line=91'>92</a>\u001b[0m     msg \u001b[39m=\u001b[39m (\n\u001b[0;32m     <a href='file:///c%3A/Users/daflo/Documents/DTU/Semester_6/Bachelor/BachelorXAI/BachelorProject_XAI/Bachelor_venv/lib/site-packages/torchvision/datasets/imagenet.py?line=92'>93</a>\u001b[0m         \u001b[39m\"\u001b[39m\u001b[39mThe archive \u001b[39m\u001b[39m{}\u001b[39;00m\u001b[39m is not present in the root directory or is corrupted. \u001b[39m\u001b[39m\"\u001b[39m\n\u001b[0;32m     <a href='file:///c%3A/Users/daflo/Documents/DTU/Semester_6/Bachelor/BachelorXAI/BachelorProject_XAI/Bachelor_venv/lib/site-packages/torchvision/datasets/imagenet.py?line=93'>94</a>\u001b[0m         \u001b[39m\"\u001b[39m\u001b[39mYou need to download it externally and place it in \u001b[39m\u001b[39m{}\u001b[39;00m\u001b[39m.\u001b[39m\u001b[39m\"\u001b[39m\n\u001b[0;32m     <a href='file:///c%3A/Users/daflo/Documents/DTU/Semester_6/Bachelor/BachelorXAI/BachelorProject_XAI/Bachelor_venv/lib/site-packages/torchvision/datasets/imagenet.py?line=94'>95</a>\u001b[0m     )\n\u001b[1;32m---> <a href='file:///c%3A/Users/daflo/Documents/DTU/Semester_6/Bachelor/BachelorXAI/BachelorProject_XAI/Bachelor_venv/lib/site-packages/torchvision/datasets/imagenet.py?line=95'>96</a>\u001b[0m     \u001b[39mraise\u001b[39;00m \u001b[39mRuntimeError\u001b[39;00m(msg\u001b[39m.\u001b[39mformat(file, root))\n",
      "\u001b[1;31mRuntimeError\u001b[0m: The archive ILSVRC2012_devkit_t12.tar.gz is not present in the root directory or is corrupted. You need to download it externally and place it in ../data/imageNet."
     ]
    }
   ],
   "source": [
    "import torchvision\n",
    "import matplotlib.pyplot as plt\n",
    "import numpy as np\n",
    "\n",
    "DATA_SET_PATH = \"../data/imageNet\"\n",
    "trainval_set = torchvision.datasets.ImageNet(\n",
    "    root = DATA_SET_PATH,\n",
    "    split = \"train\",\n",
    "    transform = torchvision.transforms.ToTensor(), \n",
    "    )\n",
    "\n",
    "train_loader = torchvision.datasets.DataLoader(\n",
    "    trainval_set,\n",
    "    batch_size=1,\n",
    "    shuffle=True,\n",
    "    num_workers=1\n",
    "    )\n",
    "\n",
    "classes = trainval_set.classes # or class_to_idx\n",
    "\n",
    "# get some random training images\n",
    "# The \"iter( )\" function makes an object iterable.\n",
    "# Meaning that we still can't subscribt it, however we can call the next \n",
    "# \"instance\" (I guess is an apt name), over and over. \n",
    "dataiter = iter(train_loader)\n",
    "images, labels = dataiter.next()\n",
    "\n",
    "# show images\n",
    "gridedImages = torchvision.utils.make_grid(images[:4])\n",
    "npimg = gridedImages.numpy()\n",
    "plt.imshow(np.transpose(npimg, (1, 2, 0)))\n",
    "plt.show()\n",
    "\n",
    "# print labels\n",
    "print(\" \".join(f\"{classes[labels[j]]:5s}\" for j in range(4)))"
   ]
  }
 ],
 "metadata": {
  "interpreter": {
   "hash": "05908db61d562b6b82dbdd69656403b30dae77f547a66d972e99027ce19f097c"
  },
  "kernelspec": {
   "display_name": "Python 3.9.7 ('Bachelor_venv': venv)",
   "language": "python",
   "name": "python3"
  },
  "language_info": {
   "codemirror_mode": {
    "name": "ipython",
    "version": 3
   },
   "file_extension": ".py",
   "mimetype": "text/x-python",
   "name": "python",
   "nbconvert_exporter": "python",
   "pygments_lexer": "ipython3",
   "version": "3.9.7"
  },
  "orig_nbformat": 4
 },
 "nbformat": 4,
 "nbformat_minor": 2
}

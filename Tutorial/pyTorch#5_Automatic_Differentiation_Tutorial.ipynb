{
 "cells": [
  {
   "cell_type": "markdown",
   "metadata": {},
   "source": [
    "# Automatic Differentiation\n",
    "\n",
    "This [tutorial](https://pytorch.org/tutorials/beginner/basics/autogradqs_tutorial.html) is also, also given a webpage.\n",
    "\n",
    "Automatic differentiation is accomplished with the `torch.autograd` module.\n"
   ]
  },
  {
   "cell_type": "markdown",
   "metadata": {},
   "source": [
    "I will save everybody involved a lot of time, by saying that this is solely if you wanna build your own neural network, from very scratch (which isn't the full truth either).\n",
    "\n",
    "The networks (models) build with pyTorch has already implemented automatic differentiation. And for now it isn't really a problem you should be concerned with."
   ]
  }
 ],
 "metadata": {
  "interpreter": {
   "hash": "c543ace77a335d6d53f78c966f120f62d739252c040c86805b5b43f8832d8b96"
  },
  "kernelspec": {
   "display_name": "Python 3.9.7 64-bit ('Bachelor_venv': venv)",
   "language": "python",
   "name": "python3"
  },
  "language_info": {
   "codemirror_mode": {
    "name": "ipython",
    "version": 3
   },
   "file_extension": ".py",
   "mimetype": "text/x-python",
   "name": "python",
   "nbconvert_exporter": "python",
   "pygments_lexer": "ipython3",
   "version": "3.9.7"
  },
  "orig_nbformat": 4
 },
 "nbformat": 4,
 "nbformat_minor": 2
}

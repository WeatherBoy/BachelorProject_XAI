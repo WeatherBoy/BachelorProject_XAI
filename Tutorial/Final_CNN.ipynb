{
 "cells": [
  {
   "cell_type": "markdown",
   "metadata": {},
   "source": [
    "# A Flixible CNN\n",
    "Layers determind by [link](https://iq.opengenus.org/output-size-of-convolution/)"
   ]
  },
  {
   "cell_type": "code",
   "execution_count": 2,
   "metadata": {},
   "outputs": [],
   "source": [
    "import torch\n",
    "import torchvision\n",
    "from torchvision import transforms\n",
    "from torch import nn\n",
    "import torch.nn.functional as F\n",
    "import matplotlib.pyplot as plt\n",
    "import numpy as np\n",
    "from torch import optim"
   ]
  },
  {
   "cell_type": "markdown",
   "metadata": {},
   "source": [
    "Download data"
   ]
  },
  {
   "cell_type": "code",
   "execution_count": 3,
   "metadata": {},
   "outputs": [
    {
     "name": "stdout",
     "output_type": "stream",
     "text": [
      "Files already downloaded and verified\n",
      "Files already downloaded and verified\n"
     ]
    }
   ],
   "source": [
    "transform = transforms.Compose(\n",
    "    [transforms.ToTensor(),\n",
    "     transforms.Normalize((0.5, 0.5, 0.5), (0.5, 0.5, 0.5))])\n",
    "\n",
    "batch_size = 4\n",
    "\n",
    "trainset = torchvision.datasets.CIFAR10(root='./data', train=True,\n",
    "                                        download=True, transform=transform)\n",
    "trainloader = torch.utils.data.DataLoader(trainset, batch_size=batch_size,\n",
    "                                          shuffle=True, num_workers=2)\n",
    "\n",
    "testset = torchvision.datasets.CIFAR10(root='./data', train=False,\n",
    "                                       download=True, transform=transform)\n",
    "testloader = torch.utils.data.DataLoader(testset, batch_size=batch_size,\n",
    "                                         shuffle=False, num_workers=2)\n",
    "\n",
    "classes = ('plane', 'car', 'bird', 'cat',\n",
    "           'deer', 'dog', 'frog', 'horse', 'ship', 'truck')"
   ]
  },
  {
   "cell_type": "markdown",
   "metadata": {},
   "source": [
    "Plotting some of the data"
   ]
  },
  {
   "cell_type": "code",
   "execution_count": null,
   "metadata": {},
   "outputs": [],
   "source": [
    "# functions to show an image\n",
    "\n",
    "\n",
    "def imshow(img):\n",
    "    img = img / 2 + 0.5     # unnormalize\n",
    "    npimg = img.numpy()\n",
    "    plt.imshow(np.transpose(npimg, (1, 2, 0)))\n",
    "    plt.show()\n",
    "\n",
    "\n",
    "# get some random training images\n",
    "dataiter = iter(trainloader)\n",
    "images, labels = dataiter.next()\n",
    "\n",
    "# show images\n",
    "imshow(torchvision.utils.make_grid(images))\n",
    "# print labels\n",
    "print(' '.join(f'{classes[labels[j]]:5s}' for j in range(batch_size)))"
   ]
  },
  {
   "cell_type": "markdown",
   "metadata": {},
   "source": [
    "## Define NN\n",
    "Define the class!"
   ]
  },
  {
   "cell_type": "code",
   "execution_count": 81,
   "metadata": {},
   "outputs": [],
   "source": [
    "channel_data = testset[0][0].shape[0] # num channels \n",
    "data_size = testset[0][0].shape[1]\n",
    "feature1 = [6,2,2]  # NOTE feature num, stide, padding\n",
    "feature2 = [16,2,2] # NOTE feature num, stide, padding\n",
    "out_size = len(classes)\n",
    "k_conv_size = 5 # 5x5 convolution kernel\n",
    "k_pool = [2,2] # pool layer 1, layer 2\n",
    "\n",
    "\n",
    "def get_output_shape(I, K, P, S, M):\n",
    "    '''\n",
    "    compute the output shape of a convolutional layer\n",
    "    for the computation, you can refer to \n",
    "    https://androidkt.com/calculate-output-size-convolutional-pooling-layers-cnn/\n",
    "    https://stackoverflow.com/questions/53580088/calculate-the-output-size-in-convolution-layer\n",
    "\n",
    "    I: image size\n",
    "    K: kernel size\n",
    "    P: padding size\n",
    "    S: stride\n",
    "    M: pooling size\n",
    "    '''\n",
    "    return ((I-K+2*P)//S+1)//M\n",
    "\n",
    "Conv_out1 = get_output_shape(data_size,k_conv_size,feature1[2],feature1[1],k_pool[0])\n",
    "Conv_out2 = get_output_shape(Conv_out1,k_conv_size,feature2[2],feature2[1],k_pool[1])\n",
    "\n",
    "class CNN(nn.Module):\n",
    "    def __init__(self):\n",
    "        super(CNN, self).__init__()\n",
    "        \n",
    "        self.layer1 = nn.Sequential(\n",
    "            nn.Conv2d(in_channels= channel_data,out_channels= feature1[0], kernel_size= k_conv_size, stride= feature1[1], padding= feature1[2]), \n",
    "            nn.BatchNorm2d(feature1[0]),\n",
    "            nn.ReLU(),\n",
    "            nn.MaxPool2d(kernel_size=k_pool[0])\n",
    "            )\n",
    "        \n",
    "        self.layer2 = nn.Sequential(\n",
    "            nn.Conv2d(in_channels= feature1[0],out_channels= feature2[0], kernel_size= k_conv_size, stride= feature2[1], padding= feature2[2]), \n",
    "            nn.BatchNorm2d(feature2[0]),\n",
    "            nn.ReLU(),\n",
    "            nn.MaxPool2d(kernel_size=k_pool[1])\n",
    "            )\n",
    "        \n",
    "        \n",
    "        self.fc = nn.Linear(feature2[0] * int(Conv_out2)**2, out_size)\n",
    "        \n",
    "\n",
    "    def forward(self, x):\n",
    "        out = self.layer1(x)\n",
    "        out = self.layer2(out)\n",
    "        out = out.reshape(out.size(0),-1)\n",
    "        out = self.fc(out)\n",
    "        \n",
    "        return out\n",
    "\n"
   ]
  },
  {
   "cell_type": "markdown",
   "metadata": {},
   "source": [
    "### Define a Loss function and optimizer"
   ]
  },
  {
   "cell_type": "code",
   "execution_count": 82,
   "metadata": {},
   "outputs": [],
   "source": [
    "model = CNN()\n",
    "criterion = nn.CrossEntropyLoss()\n",
    "optimizer = optim.Adam(model.parameters(), lr= 0.001)"
   ]
  },
  {
   "cell_type": "markdown",
   "metadata": {},
   "source": [
    "Training"
   ]
  },
  {
   "cell_type": "code",
   "execution_count": 83,
   "metadata": {},
   "outputs": [
    {
     "name": "stdout",
     "output_type": "stream",
     "text": [
      "[1,  2000] loss: 1.906\n",
      "[1,  4000] loss: 1.683\n",
      "[1,  6000] loss: 1.601\n",
      "[1,  8000] loss: 1.553\n",
      "[1, 10000] loss: 1.539\n",
      "[1, 12000] loss: 1.484\n",
      "[2,  2000] loss: 1.461\n",
      "[2,  4000] loss: 1.443\n",
      "[2,  6000] loss: 1.405\n",
      "[2,  8000] loss: 1.415\n",
      "[2, 10000] loss: 1.424\n",
      "[2, 12000] loss: 1.395\n",
      "[3,  2000] loss: 1.362\n",
      "[3,  4000] loss: 1.377\n",
      "[3,  6000] loss: 1.361\n",
      "[3,  8000] loss: 1.352\n",
      "[3, 10000] loss: 1.361\n",
      "[3, 12000] loss: 1.348\n",
      "[4,  2000] loss: 1.338\n",
      "[4,  4000] loss: 1.347\n",
      "[4,  6000] loss: 1.333\n",
      "[4,  8000] loss: 1.321\n",
      "[4, 10000] loss: 1.303\n",
      "[4, 12000] loss: 1.329\n",
      "[5,  2000] loss: 1.294\n",
      "[5,  4000] loss: 1.299\n",
      "[5,  6000] loss: 1.311\n",
      "[5,  8000] loss: 1.314\n",
      "[5, 10000] loss: 1.285\n",
      "[5, 12000] loss: 1.294\n",
      "[6,  2000] loss: 1.291\n",
      "[6,  4000] loss: 1.268\n",
      "[6,  6000] loss: 1.287\n",
      "[6,  8000] loss: 1.277\n",
      "[6, 10000] loss: 1.304\n",
      "[6, 12000] loss: 1.284\n",
      "[7,  2000] loss: 1.267\n",
      "[7,  4000] loss: 1.267\n",
      "[7,  6000] loss: 1.266\n",
      "[7,  8000] loss: 1.289\n",
      "[7, 10000] loss: 1.282\n",
      "[7, 12000] loss: 1.276\n",
      "[8,  2000] loss: 1.260\n",
      "[8,  4000] loss: 1.259\n",
      "[8,  6000] loss: 1.270\n",
      "[8,  8000] loss: 1.258\n",
      "[8, 10000] loss: 1.258\n",
      "[8, 12000] loss: 1.261\n",
      "[9,  2000] loss: 1.247\n",
      "[9,  4000] loss: 1.235\n",
      "[9,  6000] loss: 1.258\n",
      "[9,  8000] loss: 1.241\n",
      "[9, 10000] loss: 1.261\n",
      "[9, 12000] loss: 1.262\n",
      "[10,  2000] loss: 1.203\n",
      "[10,  4000] loss: 1.255\n",
      "[10,  6000] loss: 1.253\n",
      "[10,  8000] loss: 1.243\n",
      "[10, 10000] loss: 1.256\n",
      "[10, 12000] loss: 1.244\n",
      "Finished Training\n"
     ]
    }
   ],
   "source": [
    "epochs = 10\n",
    "\n",
    "for epoch in range(epochs):  # loop over the dataset multiple times\n",
    "\n",
    "    running_loss = 0.0\n",
    "    for i, data in enumerate(trainloader, 0):\n",
    "        # get the inputs; data is a list of [inputs, labels]\n",
    "        inputs, labels = data\n",
    "\n",
    "        # zero the parameter gradients\n",
    "        optimizer.zero_grad()\n",
    "\n",
    "        # forward + backward + optimize\n",
    "        outputs = model(inputs)\n",
    "        loss = criterion(outputs, labels)\n",
    "        loss.backward()\n",
    "        optimizer.step()\n",
    "\n",
    "        # print statistics\n",
    "        running_loss += loss.item()\n",
    "        if i % 2000 == 1999:    # print every 2000 mini-batches\n",
    "            print(f'[{epoch + 1}, {i + 1:5d}] loss: {running_loss / 2000:.3f}')\n",
    "            running_loss = 0.0\n",
    "\n",
    "print('Finished Training')"
   ]
  },
  {
   "cell_type": "markdown",
   "metadata": {},
   "source": [
    "## Test"
   ]
  }
 ],
 "metadata": {
  "interpreter": {
   "hash": "d806fedfadc4f43df997bb69e69664c5753a645548adea2a58a56079e3db770c"
  },
  "kernelspec": {
   "display_name": "Python 3.8.5 ('base')",
   "language": "python",
   "name": "python3"
  },
  "language_info": {
   "codemirror_mode": {
    "name": "ipython",
    "version": 3
   },
   "file_extension": ".py",
   "mimetype": "text/x-python",
   "name": "python",
   "nbconvert_exporter": "python",
   "pygments_lexer": "ipython3",
   "version": "3.8.5"
  },
  "orig_nbformat": 4
 },
 "nbformat": 4,
 "nbformat_minor": 2
}

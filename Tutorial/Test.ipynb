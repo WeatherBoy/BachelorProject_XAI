{
 "cells": [
  {
   "cell_type": "markdown",
   "metadata": {},
   "source": [
    "## Import"
   ]
  },
  {
   "cell_type": "code",
   "execution_count": 4,
   "metadata": {},
   "outputs": [],
   "source": [
    "import numpy as np\n",
    "import matplotlib.pyplot as plt\n",
    "%matplotlib inline"
   ]
  },
  {
   "cell_type": "markdown",
   "metadata": {},
   "source": [
    "## Plotting weird stuff\n",
    "\n",
    "Plotting a normal distribution with mean 0.5 and the same standard deviation."
   ]
  },
  {
   "cell_type": "code",
   "execution_count": 8,
   "metadata": {},
   "outputs": [
    {
     "data": {
      "text/plain": [
       "(array([ 1.,  0.,  0.,  0.,  0.,  1.,  1.,  0.,  0.,  1.,  0.,  3.,  1.,\n",
       "         0.,  2.,  1.,  0.,  0.,  4.,  2.,  5.,  2.,  6.,  6.,  4.,  7.,\n",
       "         6., 10., 10., 19., 11., 13., 15., 12., 12., 15., 12., 17., 16.,\n",
       "        28., 28., 19., 12., 28., 21., 27., 22., 23., 24., 20., 31., 21.,\n",
       "        30., 21., 22., 20., 24., 27., 18., 17., 27., 25., 18., 22., 19.,\n",
       "        16., 14., 14., 14., 10., 17., 11., 12., 10.,  6.,  6.,  3.,  6.,\n",
       "         8.,  4.,  4.,  7.,  3.,  3.,  4.,  4.,  4.,  0.,  2.,  3.,  1.,\n",
       "         0.,  0.,  1.,  1.,  0.,  0.,  0.,  1.,  2.]),\n",
       " array([-1.14838132, -1.11628569, -1.08419006, -1.05209443, -1.0199988 ,\n",
       "        -0.98790317, -0.95580754, -0.92371191, -0.89161628, -0.85952065,\n",
       "        -0.82742502, -0.79532939, -0.76323377, -0.73113814, -0.69904251,\n",
       "        -0.66694688, -0.63485125, -0.60275562, -0.57065999, -0.53856436,\n",
       "        -0.50646873, -0.4743731 , -0.44227747, -0.41018184, -0.37808622,\n",
       "        -0.34599059, -0.31389496, -0.28179933, -0.2497037 , -0.21760807,\n",
       "        -0.18551244, -0.15341681, -0.12132118, -0.08922555, -0.05712992,\n",
       "        -0.0250343 ,  0.00706133,  0.03915696,  0.07125259,  0.10334822,\n",
       "         0.13544385,  0.16753948,  0.19963511,  0.23173074,  0.26382637,\n",
       "         0.295922  ,  0.32801763,  0.36011325,  0.39220888,  0.42430451,\n",
       "         0.45640014,  0.48849577,  0.5205914 ,  0.55268703,  0.58478266,\n",
       "         0.61687829,  0.64897392,  0.68106955,  0.71316517,  0.7452608 ,\n",
       "         0.77735643,  0.80945206,  0.84154769,  0.87364332,  0.90573895,\n",
       "         0.93783458,  0.96993021,  1.00202584,  1.03412147,  1.0662171 ,\n",
       "         1.09831272,  1.13040835,  1.16250398,  1.19459961,  1.22669524,\n",
       "         1.25879087,  1.2908865 ,  1.32298213,  1.35507776,  1.38717339,\n",
       "         1.41926902,  1.45136465,  1.48346027,  1.5155559 ,  1.54765153,\n",
       "         1.57974716,  1.61184279,  1.64393842,  1.67603405,  1.70812968,\n",
       "         1.74022531,  1.77232094,  1.80441657,  1.83651219,  1.86860782,\n",
       "         1.90070345,  1.93279908,  1.96489471,  1.99699034,  2.02908597,\n",
       "         2.0611816 ]),\n",
       " <BarContainer object of 100 artists>)"
      ]
     },
     "execution_count": 8,
     "metadata": {},
     "output_type": "execute_result"
    },
    {
     "data": {
      "image/png": "[encoded data removed]",
      "text/plain": [
       "<Figure size 432x288 with 1 Axes>"
      ]
     },
     "metadata": {
      "needs_background": "light"
     },
     "output_type": "display_data"
    }
   ],
   "source": [
    "mu = 0.5\n",
    "std = 0.5\n",
    "X = np.random.normal(mu, std, 1000)\n",
    "\n",
    "plt.hist(X, bins=100)"
   ]
  }
 ],
 "metadata": {
  "interpreter": {
   "hash": "05908db61d562b6b82dbdd69656403b30dae77f547a66d972e99027ce19f097c"
  },
  "kernelspec": {
   "display_name": "Python 3.9.7 ('Bachelor_venv': venv)",
   "language": "python",
   "name": "python3"
  },
  "language_info": {
   "codemirror_mode": {
    "name": "ipython",
    "version": 3
   },
   "file_extension": ".py",
   "mimetype": "text/x-python",
   "name": "python",
   "nbconvert_exporter": "python",
   "pygments_lexer": "ipython3",
   "version": "3.9.7"
  },
  "orig_nbformat": 4
 },
 "nbformat": 4,
 "nbformat_minor": 2
}

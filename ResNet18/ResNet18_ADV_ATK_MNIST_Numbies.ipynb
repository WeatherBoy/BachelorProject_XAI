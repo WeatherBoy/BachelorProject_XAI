{
 "cells": [
  {
   "cell_type": "markdown",
   "metadata": {},
   "source": [
    "# ResNet18 Test\n",
    "\n",
    "This code is a test of an adversarial attack on the ResNet18 architecture as proposed by: [Deep Residual Learning for Image Recognition](https://arxiv.org/pdf/1512.03385.pdf). This notebook focuses only on the MNIST dataset of handwritten digits.\n",
    "\n",
    "The code is \"stolen\" from the following GitHub [directory](https://github.com/pytorch/vision/tree/main/torchvision). All of the code from the GitHub directory lies in the \"Support_Code\" folder. Both `internally_replaced_utils` and `utils` are in the *torchvision* directory, while `ResNet18_Stolen_GitHub_Code` is the `resnet.py` file from the *models* subdirectory.\n"
   ]
  },
  {
   "cell_type": "code",
   "execution_count": null,
   "metadata": {},
   "outputs": [],
   "source": []
  }
 ],
 "metadata": {
  "language_info": {
   "name": "python"
  },
  "orig_nbformat": 4
 },
 "nbformat": 4,
 "nbformat_minor": 2
}
